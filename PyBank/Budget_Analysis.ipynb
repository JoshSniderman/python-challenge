{
 "cells": [
  {
   "cell_type": "code",
   "execution_count": 3,
   "metadata": {
    "scrolled": true
   },
   "outputs": [
    {
     "name": "stdout",
     "output_type": "stream",
     "text": [
      "Financial Analysis \n",
      "---------------------------- \n",
      "\n",
      "Total Months: 86\n",
      "Total: $38382578\n",
      "Average Change: $-2315.12\n",
      "GreatProfit: Feb-2012 ($1926159)\n",
      "LeastProfit: Sep-2013 ($-2196167)\n"
     ]
    }
   ],
   "source": [
    "import os\n",
    "import csv\n",
    "\n",
    "csvpath = os.path.join('./Resources', 'budget_data.csv')\n",
    "\n",
    "with open(csvpath, newline = '', encoding=\"utf-8\") as csvfile:\n",
    "    csvreader = csv.reader(csvfile, delimiter = ',')\n",
    "    next(csvreader, None)\n",
    "    \n",
    "    months = 0\n",
    "    profits = 0\n",
    "    PrevProfit = 0\n",
    "    NewProfit = 0\n",
    "    ProfitChange = []\n",
    "    GreatProfit = 0\n",
    "    GreatDate = ''\n",
    "    LeastProfit = 0\n",
    "    LeastDate = ''\n",
    "    \n",
    "    for row in csvreader:\n",
    "        months += 1\n",
    "        profits += int(row[1])\n",
    "        if PrevProfit != 0:\n",
    "            NewProfit = int(row[1]) - PrevProfit\n",
    "            ProfitChange.append(NewProfit)\n",
    "            if NewProfit > GreatProfit:\n",
    "                GreatProfit = NewProfit\n",
    "                GreatDate = row[0]\n",
    "            if NewProfit < LeastProfit:\n",
    "                LeastProfit = NewProfit\n",
    "                LeastDate = row[0]\n",
    "        PrevProfit = int(row[1])\n",
    "\n",
    "print(\"Financial Analysis \\n---------------------------- \\n\")\n",
    "print(f\"Total Months: {months}\")\n",
    "print(f\"Total: ${profits}\")\n",
    "print(f\"Average Change: ${round(sum(ProfitChange) / (months-1), 2)}\")\n",
    "print(f\"GreatProfit: {GreatDate} (${GreatProfit})\")\n",
    "print(f\"LeastProfit: {LeastDate} (${LeastProfit})\")"
   ]
  }
 ],
 "metadata": {
  "kernelspec": {
   "display_name": "Python 3",
   "language": "python",
   "name": "python3"
  },
  "language_info": {
   "codemirror_mode": {
    "name": "ipython",
    "version": 3
   },
   "file_extension": ".py",
   "mimetype": "text/x-python",
   "name": "python",
   "nbconvert_exporter": "python",
   "pygments_lexer": "ipython3",
   "version": "3.8.5"
  }
 },
 "nbformat": 4,
 "nbformat_minor": 4
}
